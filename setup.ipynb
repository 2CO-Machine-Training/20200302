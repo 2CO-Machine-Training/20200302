{
  "nbformat": 4,
  "nbformat_minor": 0,
  "metadata": {
    "colab": {
      "name": "setup.ipynb",
      "provenance": [],
      "collapsed_sections": [],
      "authorship_tag": "ABX9TyPLAN4td4lCnF4kU6Q9oVAI",
      "include_colab_link": true
    },
    "kernelspec": {
      "name": "python3",
      "display_name": "Python 3"
    }
  },
  "cells": [
    {
      "cell_type": "markdown",
      "metadata": {
        "id": "view-in-github",
        "colab_type": "text"
      },
      "source": [
        "<a href=\"https://colab.research.google.com/github/2CO-Machine-Training/20200302/blob/master/setup.ipynb\" target=\"_parent\"><img src=\"https://colab.research.google.com/assets/colab-badge.svg\" alt=\"Open In Colab\"/></a>"
      ]
    },
    {
      "cell_type": "markdown",
      "metadata": {
        "id": "TAiD7_iv4El5",
        "colab_type": "text"
      },
      "source": [
        "google colaboratoryにフォルダを作成し必要なファイルをダウンロードします\n",
        "\n",
        "次のプログラムを実行してください"
      ]
    },
    {
      "cell_type": "code",
      "metadata": {
        "id": "YtmNudzb3-IO",
        "colab_type": "code",
        "outputId": "d5a6a0dd-d7a6-4713-9f7b-c1ae306264c7",
        "colab": {
          "base_uri": "https://localhost:8080/",
          "height": 163
        }
      },
      "source": [
        "import os\n",
        "import shutil\n",
        "from google.colab import drive\n",
        "\n",
        "drive.mount('/content/drive/')\n",
        "\n",
        "# 作業ファイルをマイドライブに変更\n",
        "os.chdir('/content/drive/My Drive/') \n",
        "\n",
        "\n",
        "directories = ['data', 'trend',  'word_cloud', 'network']\n",
        "\n",
        "# ディレクトリ作成\n",
        "for gdir in directories:\n",
        "  if not os.path.exists(gdir):\n",
        "    os.makedirs(gdir)\n",
        "\n",
        "# ファイルのコピー\n",
        "os.chdir('/content/drive/My Drive/Colab Notebooks') \n",
        "if not os.path.exists('20200302'):\n",
        "  ! git clone https://github.com/2CO-Machine-Training/20200302\n",
        "  # dataファイルを移動\n",
        "  for file in os.listdir('Colab Notebooks/20200302/data'):\n",
        "    new_path = shutil.move('Colab Notebooks/20200302/data/'+file, 'data/'+file)\n",
        "  os.rmdir('Colab Notebooks/20200302/data')\n",
        "  print('ファイルをコピーしました')\n",
        "else:\n",
        "  print('Colab Notebooks/20200302 フォルダが既に存在します')\n",
        "os.chdir('/content/drive/My Drive/') \n",
        "\n"
      ],
      "execution_count": 0,
      "outputs": [
        {
          "output_type": "stream",
          "text": [
            "Drive already mounted at /content/drive/; to attempt to forcibly remount, call drive.mount(\"/content/drive/\", force_remount=True).\n",
            "Cloning into '20200302'...\n",
            "remote: Enumerating objects: 70, done.\u001b[K\n",
            "remote: Counting objects: 100% (70/70), done.\u001b[K\n",
            "remote: Compressing objects: 100% (57/57), done.\u001b[K\n",
            "remote: Total 70 (delta 35), reused 20 (delta 8), pack-reused 0\u001b[K\n",
            "Unpacking objects: 100% (70/70), done.\n",
            "ファイルをコピーしました\n"
          ],
          "name": "stdout"
        }
      ]
    }
  ]
}